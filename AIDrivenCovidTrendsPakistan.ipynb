{
  "nbformat": 4,
  "nbformat_minor": 0,
  "metadata": {
    "colab": {
      "provenance": [],
      "toc_visible": true,
      "authorship_tag": "ABX9TyOvFNycZrErLakyPAGbEJVi",
      "include_colab_link": true
    },
    "kernelspec": {
      "name": "python3",
      "display_name": "Python 3"
    },
    "language_info": {
      "name": "python"
    }
  },
  "cells": [
    {
      "cell_type": "markdown",
      "metadata": {
        "id": "view-in-github",
        "colab_type": "text"
      },
      "source": [
        "<a href=\"https://colab.research.google.com/github/mbabar1100/AIDrivenCovidTrendsPakistan/blob/main/AIDrivenCovidTrendsPakistan.ipynb\" target=\"_parent\"><img src=\"https://colab.research.google.com/assets/colab-badge.svg\" alt=\"Open In Colab\"/></a>"
      ]
    },
    {
      "cell_type": "markdown",
      "source": [
        "# AI-Driven Analysis and Visualization of COVID-19 Trends: Insights from Pakistan's Data"
      ],
      "metadata": {
        "id": "gI6OC4ZULExI"
      }
    },
    {
      "cell_type": "markdown",
      "source": [
        "This project leverages artificial intelligence and advanced data visualization techniques to analyze and interpret COVID-19 data, specifically focusing on Pakistan's reported cases, deaths, and tests. By utilizing machine learning algorithms and data processing techniques, the project extracts meaningful insights from the raw data, such as identifying trends in COVID-19 deaths across different years and months. AI-driven analysis helps in detecting patterns related to the peak of the pandemic, providing predictions on critical factors like test rates and death tolls. Through intuitive data visualizations, such as pie charts and count plots, the project effectively communicates key metrics, allowing stakeholders to better understand the dynamics of the pandemic and make informed decisions. This combination of AI and visualization transforms complex data into actionable insights, making it easier to spot trends and anomalies in the ongoing battle against the COVID-19 crisis."
      ],
      "metadata": {
        "id": "cqtCngBILP9U"
      }
    },
    {
      "cell_type": "markdown",
      "source": [
        "Step 1: Load Libraries\n"
      ],
      "metadata": {
        "id": "fO0G5NFzLXB_"
      }
    },
    {
      "cell_type": "code",
      "source": [
        "# Import necessary libraries\n",
        "import pandas as pd\n",
        "import numpy as np\n",
        "from matplotlib import pyplot as plt\n",
        "import seaborn as sns\n",
        "from google.colab import files\n"
      ],
      "metadata": {
        "id": "4Oz-kMK9Lbb3"
      },
      "execution_count": null,
      "outputs": []
    },
    {
      "cell_type": "markdown",
      "source": [
        "Step 2: Upload Data File\n"
      ],
      "metadata": {
        "id": "KbWQVTfuLdNk"
      }
    },
    {
      "cell_type": "code",
      "source": [
        "# Upload your file\n",
        "uploaded = files.upload()\n",
        "\n",
        "# Assuming the uploaded file is in the current directory (use the filename of the uploaded file)\n",
        "file_name = next(iter(uploaded))  # Get the first file name uploaded\n"
      ],
      "metadata": {
        "colab": {
          "base_uri": "https://localhost:8080/",
          "height": 73
        },
        "id": "R6ZnchRQLjxP",
        "outputId": "64316bc5-7ec4-4aee-c8ac-5819c2bfa64f"
      },
      "execution_count": null,
      "outputs": [
        {
          "output_type": "display_data",
          "data": {
            "text/plain": [
              "<IPython.core.display.HTML object>"
            ],
            "text/html": [
              "\n",
              "     <input type=\"file\" id=\"files-a3e60cc4-c029-4821-87ca-a3ea445c4122\" name=\"files[]\" multiple disabled\n",
              "        style=\"border:none\" />\n",
              "     <output id=\"result-a3e60cc4-c029-4821-87ca-a3ea445c4122\">\n",
              "      Upload widget is only available when the cell has been executed in the\n",
              "      current browser session. Please rerun this cell to enable.\n",
              "      </output>\n",
              "      <script>// Copyright 2017 Google LLC\n",
              "//\n",
              "// Licensed under the Apache License, Version 2.0 (the \"License\");\n",
              "// you may not use this file except in compliance with the License.\n",
              "// You may obtain a copy of the License at\n",
              "//\n",
              "//      http://www.apache.org/licenses/LICENSE-2.0\n",
              "//\n",
              "// Unless required by applicable law or agreed to in writing, software\n",
              "// distributed under the License is distributed on an \"AS IS\" BASIS,\n",
              "// WITHOUT WARRANTIES OR CONDITIONS OF ANY KIND, either express or implied.\n",
              "// See the License for the specific language governing permissions and\n",
              "// limitations under the License.\n",
              "\n",
              "/**\n",
              " * @fileoverview Helpers for google.colab Python module.\n",
              " */\n",
              "(function(scope) {\n",
              "function span(text, styleAttributes = {}) {\n",
              "  const element = document.createElement('span');\n",
              "  element.textContent = text;\n",
              "  for (const key of Object.keys(styleAttributes)) {\n",
              "    element.style[key] = styleAttributes[key];\n",
              "  }\n",
              "  return element;\n",
              "}\n",
              "\n",
              "// Max number of bytes which will be uploaded at a time.\n",
              "const MAX_PAYLOAD_SIZE = 100 * 1024;\n",
              "\n",
              "function _uploadFiles(inputId, outputId) {\n",
              "  const steps = uploadFilesStep(inputId, outputId);\n",
              "  const outputElement = document.getElementById(outputId);\n",
              "  // Cache steps on the outputElement to make it available for the next call\n",
              "  // to uploadFilesContinue from Python.\n",
              "  outputElement.steps = steps;\n",
              "\n",
              "  return _uploadFilesContinue(outputId);\n",
              "}\n",
              "\n",
              "// This is roughly an async generator (not supported in the browser yet),\n",
              "// where there are multiple asynchronous steps and the Python side is going\n",
              "// to poll for completion of each step.\n",
              "// This uses a Promise to block the python side on completion of each step,\n",
              "// then passes the result of the previous step as the input to the next step.\n",
              "function _uploadFilesContinue(outputId) {\n",
              "  const outputElement = document.getElementById(outputId);\n",
              "  const steps = outputElement.steps;\n",
              "\n",
              "  const next = steps.next(outputElement.lastPromiseValue);\n",
              "  return Promise.resolve(next.value.promise).then((value) => {\n",
              "    // Cache the last promise value to make it available to the next\n",
              "    // step of the generator.\n",
              "    outputElement.lastPromiseValue = value;\n",
              "    return next.value.response;\n",
              "  });\n",
              "}\n",
              "\n",
              "/**\n",
              " * Generator function which is called between each async step of the upload\n",
              " * process.\n",
              " * @param {string} inputId Element ID of the input file picker element.\n",
              " * @param {string} outputId Element ID of the output display.\n",
              " * @return {!Iterable<!Object>} Iterable of next steps.\n",
              " */\n",
              "function* uploadFilesStep(inputId, outputId) {\n",
              "  const inputElement = document.getElementById(inputId);\n",
              "  inputElement.disabled = false;\n",
              "\n",
              "  const outputElement = document.getElementById(outputId);\n",
              "  outputElement.innerHTML = '';\n",
              "\n",
              "  const pickedPromise = new Promise((resolve) => {\n",
              "    inputElement.addEventListener('change', (e) => {\n",
              "      resolve(e.target.files);\n",
              "    });\n",
              "  });\n",
              "\n",
              "  const cancel = document.createElement('button');\n",
              "  inputElement.parentElement.appendChild(cancel);\n",
              "  cancel.textContent = 'Cancel upload';\n",
              "  const cancelPromise = new Promise((resolve) => {\n",
              "    cancel.onclick = () => {\n",
              "      resolve(null);\n",
              "    };\n",
              "  });\n",
              "\n",
              "  // Wait for the user to pick the files.\n",
              "  const files = yield {\n",
              "    promise: Promise.race([pickedPromise, cancelPromise]),\n",
              "    response: {\n",
              "      action: 'starting',\n",
              "    }\n",
              "  };\n",
              "\n",
              "  cancel.remove();\n",
              "\n",
              "  // Disable the input element since further picks are not allowed.\n",
              "  inputElement.disabled = true;\n",
              "\n",
              "  if (!files) {\n",
              "    return {\n",
              "      response: {\n",
              "        action: 'complete',\n",
              "      }\n",
              "    };\n",
              "  }\n",
              "\n",
              "  for (const file of files) {\n",
              "    const li = document.createElement('li');\n",
              "    li.append(span(file.name, {fontWeight: 'bold'}));\n",
              "    li.append(span(\n",
              "        `(${file.type || 'n/a'}) - ${file.size} bytes, ` +\n",
              "        `last modified: ${\n",
              "            file.lastModifiedDate ? file.lastModifiedDate.toLocaleDateString() :\n",
              "                                    'n/a'} - `));\n",
              "    const percent = span('0% done');\n",
              "    li.appendChild(percent);\n",
              "\n",
              "    outputElement.appendChild(li);\n",
              "\n",
              "    const fileDataPromise = new Promise((resolve) => {\n",
              "      const reader = new FileReader();\n",
              "      reader.onload = (e) => {\n",
              "        resolve(e.target.result);\n",
              "      };\n",
              "      reader.readAsArrayBuffer(file);\n",
              "    });\n",
              "    // Wait for the data to be ready.\n",
              "    let fileData = yield {\n",
              "      promise: fileDataPromise,\n",
              "      response: {\n",
              "        action: 'continue',\n",
              "      }\n",
              "    };\n",
              "\n",
              "    // Use a chunked sending to avoid message size limits. See b/62115660.\n",
              "    let position = 0;\n",
              "    do {\n",
              "      const length = Math.min(fileData.byteLength - position, MAX_PAYLOAD_SIZE);\n",
              "      const chunk = new Uint8Array(fileData, position, length);\n",
              "      position += length;\n",
              "\n",
              "      const base64 = btoa(String.fromCharCode.apply(null, chunk));\n",
              "      yield {\n",
              "        response: {\n",
              "          action: 'append',\n",
              "          file: file.name,\n",
              "          data: base64,\n",
              "        },\n",
              "      };\n",
              "\n",
              "      let percentDone = fileData.byteLength === 0 ?\n",
              "          100 :\n",
              "          Math.round((position / fileData.byteLength) * 100);\n",
              "      percent.textContent = `${percentDone}% done`;\n",
              "\n",
              "    } while (position < fileData.byteLength);\n",
              "  }\n",
              "\n",
              "  // All done.\n",
              "  yield {\n",
              "    response: {\n",
              "      action: 'complete',\n",
              "    }\n",
              "  };\n",
              "}\n",
              "\n",
              "scope.google = scope.google || {};\n",
              "scope.google.colab = scope.google.colab || {};\n",
              "scope.google.colab._files = {\n",
              "  _uploadFiles,\n",
              "  _uploadFilesContinue,\n",
              "};\n",
              "})(self);\n",
              "</script> "
            ]
          },
          "metadata": {}
        },
        {
          "output_type": "stream",
          "name": "stdout",
          "text": [
            "Saving Pakistan-Covid-19_DataSet.xlsx to Pakistan-Covid-19_DataSet.xlsx\n"
          ]
        }
      ]
    },
    {
      "cell_type": "markdown",
      "source": [
        "Step 3: Load Data into DataFrame\n"
      ],
      "metadata": {
        "id": "IGvIEL2PLwOB"
      }
    },
    {
      "cell_type": "code",
      "source": [
        "# Read the Excel file into a DataFrame\n",
        "df = pd.read_excel(file_name)\n",
        "\n",
        "# Preview the first few rows of the data\n",
        "df.head()\n",
        "df.info()\n",
        "df.sample(5)\n"
      ],
      "metadata": {
        "colab": {
          "base_uri": "https://localhost:8080/",
          "height": 407
        },
        "id": "gt4lvhr1LxbQ",
        "outputId": "a260442e-f99b-4959-baaa-bd0414efd7a4"
      },
      "execution_count": null,
      "outputs": [
        {
          "output_type": "stream",
          "name": "stdout",
          "text": [
            "<class 'pandas.core.frame.DataFrame'>\n",
            "RangeIndex: 653 entries, 0 to 652\n",
            "Data columns (total 4 columns):\n",
            " #   Column           Non-Null Count  Dtype \n",
            "---  ------           --------------  ----- \n",
            " 0   date             653 non-null    object\n",
            " 1   confirmed_cases  653 non-null    int64 \n",
            " 2   deaths           653 non-null    int64 \n",
            " 3   tests_performed  653 non-null    int64 \n",
            "dtypes: int64(3), object(1)\n",
            "memory usage: 20.5+ KB\n"
          ]
        },
        {
          "output_type": "execute_result",
          "data": {
            "text/plain": [
              "           date  confirmed_cases  deaths  tests_performed\n",
              "513  2021-08-27             4191     120            61306\n",
              "498  2021-08-12             4619      79            59504\n",
              "374  2021-04-10             5050     114            46066\n",
              "608  2021-11-30              414       9            42381\n",
              "563  2021-10-16              720      17            44831"
            ],
            "text/html": [
              "\n",
              "  <div id=\"df-d3e21078-2dc1-44e4-9a26-f2448474a5b9\" class=\"colab-df-container\">\n",
              "    <div>\n",
              "<style scoped>\n",
              "    .dataframe tbody tr th:only-of-type {\n",
              "        vertical-align: middle;\n",
              "    }\n",
              "\n",
              "    .dataframe tbody tr th {\n",
              "        vertical-align: top;\n",
              "    }\n",
              "\n",
              "    .dataframe thead th {\n",
              "        text-align: right;\n",
              "    }\n",
              "</style>\n",
              "<table border=\"1\" class=\"dataframe\">\n",
              "  <thead>\n",
              "    <tr style=\"text-align: right;\">\n",
              "      <th></th>\n",
              "      <th>date</th>\n",
              "      <th>confirmed_cases</th>\n",
              "      <th>deaths</th>\n",
              "      <th>tests_performed</th>\n",
              "    </tr>\n",
              "  </thead>\n",
              "  <tbody>\n",
              "    <tr>\n",
              "      <th>513</th>\n",
              "      <td>2021-08-27</td>\n",
              "      <td>4191</td>\n",
              "      <td>120</td>\n",
              "      <td>61306</td>\n",
              "    </tr>\n",
              "    <tr>\n",
              "      <th>498</th>\n",
              "      <td>2021-08-12</td>\n",
              "      <td>4619</td>\n",
              "      <td>79</td>\n",
              "      <td>59504</td>\n",
              "    </tr>\n",
              "    <tr>\n",
              "      <th>374</th>\n",
              "      <td>2021-04-10</td>\n",
              "      <td>5050</td>\n",
              "      <td>114</td>\n",
              "      <td>46066</td>\n",
              "    </tr>\n",
              "    <tr>\n",
              "      <th>608</th>\n",
              "      <td>2021-11-30</td>\n",
              "      <td>414</td>\n",
              "      <td>9</td>\n",
              "      <td>42381</td>\n",
              "    </tr>\n",
              "    <tr>\n",
              "      <th>563</th>\n",
              "      <td>2021-10-16</td>\n",
              "      <td>720</td>\n",
              "      <td>17</td>\n",
              "      <td>44831</td>\n",
              "    </tr>\n",
              "  </tbody>\n",
              "</table>\n",
              "</div>\n",
              "    <div class=\"colab-df-buttons\">\n",
              "\n",
              "  <div class=\"colab-df-container\">\n",
              "    <button class=\"colab-df-convert\" onclick=\"convertToInteractive('df-d3e21078-2dc1-44e4-9a26-f2448474a5b9')\"\n",
              "            title=\"Convert this dataframe to an interactive table.\"\n",
              "            style=\"display:none;\">\n",
              "\n",
              "  <svg xmlns=\"http://www.w3.org/2000/svg\" height=\"24px\" viewBox=\"0 -960 960 960\">\n",
              "    <path d=\"M120-120v-720h720v720H120Zm60-500h600v-160H180v160Zm220 220h160v-160H400v160Zm0 220h160v-160H400v160ZM180-400h160v-160H180v160Zm440 0h160v-160H620v160ZM180-180h160v-160H180v160Zm440 0h160v-160H620v160Z\"/>\n",
              "  </svg>\n",
              "    </button>\n",
              "\n",
              "  <style>\n",
              "    .colab-df-container {\n",
              "      display:flex;\n",
              "      gap: 12px;\n",
              "    }\n",
              "\n",
              "    .colab-df-convert {\n",
              "      background-color: #E8F0FE;\n",
              "      border: none;\n",
              "      border-radius: 50%;\n",
              "      cursor: pointer;\n",
              "      display: none;\n",
              "      fill: #1967D2;\n",
              "      height: 32px;\n",
              "      padding: 0 0 0 0;\n",
              "      width: 32px;\n",
              "    }\n",
              "\n",
              "    .colab-df-convert:hover {\n",
              "      background-color: #E2EBFA;\n",
              "      box-shadow: 0px 1px 2px rgba(60, 64, 67, 0.3), 0px 1px 3px 1px rgba(60, 64, 67, 0.15);\n",
              "      fill: #174EA6;\n",
              "    }\n",
              "\n",
              "    .colab-df-buttons div {\n",
              "      margin-bottom: 4px;\n",
              "    }\n",
              "\n",
              "    [theme=dark] .colab-df-convert {\n",
              "      background-color: #3B4455;\n",
              "      fill: #D2E3FC;\n",
              "    }\n",
              "\n",
              "    [theme=dark] .colab-df-convert:hover {\n",
              "      background-color: #434B5C;\n",
              "      box-shadow: 0px 1px 3px 1px rgba(0, 0, 0, 0.15);\n",
              "      filter: drop-shadow(0px 1px 2px rgba(0, 0, 0, 0.3));\n",
              "      fill: #FFFFFF;\n",
              "    }\n",
              "  </style>\n",
              "\n",
              "    <script>\n",
              "      const buttonEl =\n",
              "        document.querySelector('#df-d3e21078-2dc1-44e4-9a26-f2448474a5b9 button.colab-df-convert');\n",
              "      buttonEl.style.display =\n",
              "        google.colab.kernel.accessAllowed ? 'block' : 'none';\n",
              "\n",
              "      async function convertToInteractive(key) {\n",
              "        const element = document.querySelector('#df-d3e21078-2dc1-44e4-9a26-f2448474a5b9');\n",
              "        const dataTable =\n",
              "          await google.colab.kernel.invokeFunction('convertToInteractive',\n",
              "                                                    [key], {});\n",
              "        if (!dataTable) return;\n",
              "\n",
              "        const docLinkHtml = 'Like what you see? Visit the ' +\n",
              "          '<a target=\"_blank\" href=https://colab.research.google.com/notebooks/data_table.ipynb>data table notebook</a>'\n",
              "          + ' to learn more about interactive tables.';\n",
              "        element.innerHTML = '';\n",
              "        dataTable['output_type'] = 'display_data';\n",
              "        await google.colab.output.renderOutput(dataTable, element);\n",
              "        const docLink = document.createElement('div');\n",
              "        docLink.innerHTML = docLinkHtml;\n",
              "        element.appendChild(docLink);\n",
              "      }\n",
              "    </script>\n",
              "  </div>\n",
              "\n",
              "\n",
              "<div id=\"df-980a5bef-1e3f-444b-99af-d75c3c8f8c6b\">\n",
              "  <button class=\"colab-df-quickchart\" onclick=\"quickchart('df-980a5bef-1e3f-444b-99af-d75c3c8f8c6b')\"\n",
              "            title=\"Suggest charts\"\n",
              "            style=\"display:none;\">\n",
              "\n",
              "<svg xmlns=\"http://www.w3.org/2000/svg\" height=\"24px\"viewBox=\"0 0 24 24\"\n",
              "     width=\"24px\">\n",
              "    <g>\n",
              "        <path d=\"M19 3H5c-1.1 0-2 .9-2 2v14c0 1.1.9 2 2 2h14c1.1 0 2-.9 2-2V5c0-1.1-.9-2-2-2zM9 17H7v-7h2v7zm4 0h-2V7h2v10zm4 0h-2v-4h2v4z\"/>\n",
              "    </g>\n",
              "</svg>\n",
              "  </button>\n",
              "\n",
              "<style>\n",
              "  .colab-df-quickchart {\n",
              "      --bg-color: #E8F0FE;\n",
              "      --fill-color: #1967D2;\n",
              "      --hover-bg-color: #E2EBFA;\n",
              "      --hover-fill-color: #174EA6;\n",
              "      --disabled-fill-color: #AAA;\n",
              "      --disabled-bg-color: #DDD;\n",
              "  }\n",
              "\n",
              "  [theme=dark] .colab-df-quickchart {\n",
              "      --bg-color: #3B4455;\n",
              "      --fill-color: #D2E3FC;\n",
              "      --hover-bg-color: #434B5C;\n",
              "      --hover-fill-color: #FFFFFF;\n",
              "      --disabled-bg-color: #3B4455;\n",
              "      --disabled-fill-color: #666;\n",
              "  }\n",
              "\n",
              "  .colab-df-quickchart {\n",
              "    background-color: var(--bg-color);\n",
              "    border: none;\n",
              "    border-radius: 50%;\n",
              "    cursor: pointer;\n",
              "    display: none;\n",
              "    fill: var(--fill-color);\n",
              "    height: 32px;\n",
              "    padding: 0;\n",
              "    width: 32px;\n",
              "  }\n",
              "\n",
              "  .colab-df-quickchart:hover {\n",
              "    background-color: var(--hover-bg-color);\n",
              "    box-shadow: 0 1px 2px rgba(60, 64, 67, 0.3), 0 1px 3px 1px rgba(60, 64, 67, 0.15);\n",
              "    fill: var(--button-hover-fill-color);\n",
              "  }\n",
              "\n",
              "  .colab-df-quickchart-complete:disabled,\n",
              "  .colab-df-quickchart-complete:disabled:hover {\n",
              "    background-color: var(--disabled-bg-color);\n",
              "    fill: var(--disabled-fill-color);\n",
              "    box-shadow: none;\n",
              "  }\n",
              "\n",
              "  .colab-df-spinner {\n",
              "    border: 2px solid var(--fill-color);\n",
              "    border-color: transparent;\n",
              "    border-bottom-color: var(--fill-color);\n",
              "    animation:\n",
              "      spin 1s steps(1) infinite;\n",
              "  }\n",
              "\n",
              "  @keyframes spin {\n",
              "    0% {\n",
              "      border-color: transparent;\n",
              "      border-bottom-color: var(--fill-color);\n",
              "      border-left-color: var(--fill-color);\n",
              "    }\n",
              "    20% {\n",
              "      border-color: transparent;\n",
              "      border-left-color: var(--fill-color);\n",
              "      border-top-color: var(--fill-color);\n",
              "    }\n",
              "    30% {\n",
              "      border-color: transparent;\n",
              "      border-left-color: var(--fill-color);\n",
              "      border-top-color: var(--fill-color);\n",
              "      border-right-color: var(--fill-color);\n",
              "    }\n",
              "    40% {\n",
              "      border-color: transparent;\n",
              "      border-right-color: var(--fill-color);\n",
              "      border-top-color: var(--fill-color);\n",
              "    }\n",
              "    60% {\n",
              "      border-color: transparent;\n",
              "      border-right-color: var(--fill-color);\n",
              "    }\n",
              "    80% {\n",
              "      border-color: transparent;\n",
              "      border-right-color: var(--fill-color);\n",
              "      border-bottom-color: var(--fill-color);\n",
              "    }\n",
              "    90% {\n",
              "      border-color: transparent;\n",
              "      border-bottom-color: var(--fill-color);\n",
              "    }\n",
              "  }\n",
              "</style>\n",
              "\n",
              "  <script>\n",
              "    async function quickchart(key) {\n",
              "      const quickchartButtonEl =\n",
              "        document.querySelector('#' + key + ' button');\n",
              "      quickchartButtonEl.disabled = true;  // To prevent multiple clicks.\n",
              "      quickchartButtonEl.classList.add('colab-df-spinner');\n",
              "      try {\n",
              "        const charts = await google.colab.kernel.invokeFunction(\n",
              "            'suggestCharts', [key], {});\n",
              "      } catch (error) {\n",
              "        console.error('Error during call to suggestCharts:', error);\n",
              "      }\n",
              "      quickchartButtonEl.classList.remove('colab-df-spinner');\n",
              "      quickchartButtonEl.classList.add('colab-df-quickchart-complete');\n",
              "    }\n",
              "    (() => {\n",
              "      let quickchartButtonEl =\n",
              "        document.querySelector('#df-980a5bef-1e3f-444b-99af-d75c3c8f8c6b button');\n",
              "      quickchartButtonEl.style.display =\n",
              "        google.colab.kernel.accessAllowed ? 'block' : 'none';\n",
              "    })();\n",
              "  </script>\n",
              "</div>\n",
              "\n",
              "    </div>\n",
              "  </div>\n"
            ],
            "application/vnd.google.colaboratory.intrinsic+json": {
              "type": "dataframe",
              "repr_error": "0"
            }
          },
          "metadata": {},
          "execution_count": 3
        }
      ]
    },
    {
      "cell_type": "markdown",
      "source": [
        "Step 4: Process Date Column\n"
      ],
      "metadata": {
        "id": "supyR1KKL1UP"
      }
    },
    {
      "cell_type": "code",
      "source": [
        "# Extract year and month from the 'date' column\n",
        "df['year'] = pd.DatetimeIndex(df[\"date\"]).year\n",
        "df['date'] = pd.to_datetime(df['date'])\n",
        "df['month'] = df['date'].dt.strftime(\"%b\")  # Convert month to abbreviated form\n",
        "df.drop('date', inplace=True, axis=1)  # Drop the original date column\n"
      ],
      "metadata": {
        "id": "N99FlOUaL3xr"
      },
      "execution_count": null,
      "outputs": []
    },
    {
      "cell_type": "markdown",
      "source": [
        "Step 5: Summary Statistics\n"
      ],
      "metadata": {
        "id": "vrgtUVOfL7wD"
      }
    },
    {
      "cell_type": "code",
      "source": [
        "# Print some summary statistics about the data\n",
        "print(\"*--------------------------------------*\")\n",
        "print(f\"Data present for {len(list(df['year'].unique()))} years.\")\n",
        "print(\"*--------------------------------------*\")\n",
        "df.nunique()\n",
        "print(\"*--------------------------------------*\")\n",
        "print(f\"Total deaths reported {df['deaths'].sum()}.\")\n",
        "print(\"*--------------------------------------*\")\n",
        "print(\"*--------------------------------------*\")\n",
        "print(f\"Total tests performed {df['tests_performed'].sum()}.\")\n",
        "print(\"*--------------------------------------*\")\n",
        "print(\"*--------------------------------------*\")\n",
        "print(f\"Total cases confirmed {df['confirmed_cases'].sum()}.\")\n",
        "print(\"*--------------------------------------*\")\n"
      ],
      "metadata": {
        "colab": {
          "base_uri": "https://localhost:8080/"
        },
        "id": "L4ITc2zFL8zK",
        "outputId": "6c584bab-5073-4136-db09-d10bb6858886"
      },
      "execution_count": null,
      "outputs": [
        {
          "output_type": "stream",
          "name": "stdout",
          "text": [
            "*--------------------------------------*\n",
            "Data present for 3 years.\n",
            "*--------------------------------------*\n",
            "*--------------------------------------*\n",
            "Total deaths reported 28714.\n",
            "*--------------------------------------*\n",
            "*--------------------------------------*\n",
            "Total tests performed 23944455.\n",
            "*--------------------------------------*\n",
            "*--------------------------------------*\n",
            "Total cases confirmed 1313633.\n",
            "*--------------------------------------*\n"
          ]
        }
      ]
    },
    {
      "cell_type": "markdown",
      "source": [
        "Step 6: Find Year with Most Deaths\n",
        "\n"
      ],
      "metadata": {
        "id": "irPOSnZFMBj4"
      }
    },
    {
      "cell_type": "code",
      "source": [
        "# Find the year with the most deaths\n",
        "most_death_year = df.groupby('year', as_index=False)['deaths'].sum().sort_values(by='deaths', ascending=False)\n",
        "print(\"*--------------------------------------*\")\n",
        "print(f\"Most deaths of {most_death_year['deaths'].iloc[0]} is in the year of {most_death_year['year'].iloc[0]}.\")\n",
        "print(\"*--------------------------------------*\")\n"
      ],
      "metadata": {
        "colab": {
          "base_uri": "https://localhost:8080/"
        },
        "id": "Bd2fNIEfMCk4",
        "outputId": "611bdd1f-9cf8-4bc0-eecd-1e62339c4dc7"
      },
      "execution_count": null,
      "outputs": [
        {
          "output_type": "stream",
          "name": "stdout",
          "text": [
            "*--------------------------------------*\n",
            "Most deaths of 18766 is in the year of 2021.\n",
            "*--------------------------------------*\n"
          ]
        }
      ]
    },
    {
      "cell_type": "markdown",
      "source": [
        "Step 7: Visualize Data Recorded by Year\n",
        "\n"
      ],
      "metadata": {
        "id": "fviEM831MF94"
      }
    },
    {
      "cell_type": "code",
      "source": [
        "# Plot count of data by year\n",
        "plt.figure(figsize=(12, 8))\n",
        "sns.countplot(y='year', data=df, palette=\"rocket_r\")\n",
        "plt.title(\"Most Data Recorded by Year\")\n",
        "plt.ylabel(\"Year\")\n",
        "plt.xlabel(\"Count\")\n",
        "plt.show()\n"
      ],
      "metadata": {
        "colab": {
          "base_uri": "https://localhost:8080/",
          "height": 809
        },
        "id": "1LguhSypMIIt",
        "outputId": "ecaf5603-014a-4159-9ec0-c545b157dc08"
      },
      "execution_count": null,
      "outputs": [
        {
          "output_type": "stream",
          "name": "stderr",
          "text": [
            "<ipython-input-7-22fbe0ba22c6>:3: FutureWarning: \n",
            "\n",
            "Passing `palette` without assigning `hue` is deprecated and will be removed in v0.14.0. Assign the `y` variable to `hue` and set `legend=False` for the same effect.\n",
            "\n",
            "  sns.countplot(y='year', data=df, palette=\"rocket_r\")\n"
          ]
        },
        {
          "output_type": "display_data",
          "data": {
            "text/plain": [
              "<Figure size 1200x800 with 1 Axes>"
            ],
            "image/png": "[encoded data removed]"
          },
          "metadata": {}
        }
      ]
    },
    {
      "cell_type": "markdown",
      "source": [
        "Step 8: Visualize Data Recorded by Month for Each Year\n"
      ],
      "metadata": {
        "id": "QIiwMI36MMg2"
      }
    },
    {
      "cell_type": "code",
      "source": [
        "# Plot count of data by month for each year\n",
        "plt.figure(figsize=(12, 8))\n",
        "sns.countplot(y='month', data=df, hue=\"year\", palette=\"inferno\")\n",
        "plt.title(\"Month per Year\")\n",
        "plt.ylabel(\"Months\")\n",
        "plt.xlabel(\"Count\")\n",
        "plt.show()\n"
      ],
      "metadata": {
        "colab": {
          "base_uri": "https://localhost:8080/",
          "height": 718
        },
        "id": "vPC9xo6gMNnk",
        "outputId": "b71679c6-f7c5-41f7-9e14-7a6a8af5bae9"
      },
      "execution_count": null,
      "outputs": [
        {
          "output_type": "display_data",
          "data": {
            "text/plain": [
              "<Figure size 1200x800 with 1 Axes>"
            ],
            "image/png": "[encoded data removed]"
          },
          "metadata": {}
        }
      ]
    },
    {
      "cell_type": "markdown",
      "source": [
        "Step 9: Find Month with Most Deaths in Each Year\n",
        "\n"
      ],
      "metadata": {
        "id": "a910Utu7MSfb"
      }
    },
    {
      "cell_type": "code",
      "source": [
        "# Find most deaths by month for each year\n",
        "most_deaths_by_month = df.groupby(['month', 'year'], as_index=False)['deaths'].sum().sort_values(by=\"deaths\", ascending=False)\n",
        "\n",
        "# Display results for each year\n",
        "print(\"Most deaths in 2020:\", most_deaths_by_month['month'][most_deaths_by_month['year'] == 2020].max())\n",
        "print(\"Most deaths in 2021:\", most_deaths_by_month['month'][most_deaths_by_month['year'] == 2021].max())\n",
        "print(\"Most deaths in 2022:\", most_deaths_by_month['month'][most_deaths_by_month['year'] == 2022].max())\n"
      ],
      "metadata": {
        "colab": {
          "base_uri": "https://localhost:8080/"
        },
        "id": "2_dbbmAcMTpw",
        "outputId": "2c3a47a6-a308-46b2-a545-30d5b01aaecd"
      },
      "execution_count": null,
      "outputs": [
        {
          "output_type": "stream",
          "name": "stdout",
          "text": [
            "Most deaths in 2020: Sep\n",
            "Most deaths in 2021: Sep\n",
            "Most deaths in 2022: Jan\n"
          ]
        }
      ]
    },
    {
      "cell_type": "markdown",
      "source": [
        "Step 10: Pie Chart of Records per Year\n",
        "\n"
      ],
      "metadata": {
        "id": "GRc3NxlaMYP4"
      }
    },
    {
      "cell_type": "code",
      "source": [
        "# Pie chart of records per year\n",
        "label = df['year'].value_counts().index\n",
        "values = df['year'].value_counts().values\n",
        "colors = sns.color_palette(\"pastel\")[0:5]\n",
        "plt.figure(figsize=(10, 10))\n",
        "plt.pie(values, labels=label, colors=colors, autopct=\"%.0f%%\")\n",
        "plt.title(\"Records per Year\")\n",
        "plt.legend()\n",
        "plt.show()\n"
      ],
      "metadata": {
        "colab": {
          "base_uri": "https://localhost:8080/",
          "height": 829
        },
        "id": "YM3cbC7dMZ5c",
        "outputId": "c1f3a546-92df-487d-af1f-5ed4f787ea06"
      },
      "execution_count": null,
      "outputs": [
        {
          "output_type": "display_data",
          "data": {
            "text/plain": [
              "<Figure size 1000x1000 with 1 Axes>"
            ],
            "image/png": "[encoded data removed]"
          },
          "metadata": {}
        }
      ]
    },
    {
      "cell_type": "markdown",
      "source": [
        "Step 11: Pie Chart of Deaths per Year\n"
      ],
      "metadata": {
        "id": "mhCgJhFwMdS_"
      }
    },
    {
      "cell_type": "code",
      "source": [
        "# Pie chart of deaths per year\n",
        "value_deaths = df.groupby('year')['deaths'].sum().values\n",
        "label_deaths = df.groupby('year')['deaths'].sum().index\n",
        "\n",
        "colors = sns.color_palette(\"inferno\")[0:5]\n",
        "plt.figure(figsize=(10, 10))\n",
        "_, _, autotexts = plt.pie(value_deaths, labels=label_deaths, colors=colors, autopct=\"%.2f%%\")\n",
        "for ins in autotexts:\n",
        "    ins.set_color(\"white\")\n",
        "plt.title(\"Deaths per Year\")\n",
        "plt.legend()\n",
        "plt.show()\n"
      ],
      "metadata": {
        "colab": {
          "base_uri": "https://localhost:8080/",
          "height": 829
        },
        "id": "Xtb_-si3MeR0",
        "outputId": "b74b4105-846a-465d-dce0-de04fa9b7e08"
      },
      "execution_count": null,
      "outputs": [
        {
          "output_type": "display_data",
          "data": {
            "text/plain": [
              "<Figure size 1000x1000 with 1 Axes>"
            ],
            "image/png": "[encoded data removed]"
          },
          "metadata": {}
        }
      ]
    }
  ]
}